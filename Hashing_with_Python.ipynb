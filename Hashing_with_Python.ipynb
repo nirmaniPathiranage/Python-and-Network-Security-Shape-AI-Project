{
  "nbformat": 4,
  "nbformat_minor": 0,
  "metadata": {
    "colab": {
      "name": "Hashing with Python.ipynb",
      "provenance": [],
      "collapsed_sections": []
    },
    "kernelspec": {
      "name": "python3",
      "display_name": "Python 3"
    },
    "language_info": {
      "name": "python"
    }
  },
  "cells": [
    {
      "cell_type": "code",
      "metadata": {
        "id": "yHWC3M6KDIxH"
      },
      "source": [
        "# Nirmani Jayaprabha Pathiranage\n",
        "# nirma2015@gmail.com\n",
        "# +94712233126\n",
        "\n",
        "### PYTHON AND NETWORK SECURITY BOOTCAMP SHAPEAI PROJECT ###"
      ],
      "execution_count": 54,
      "outputs": []
    },
    {
      "cell_type": "code",
      "metadata": {
        "colab": {
          "base_uri": "https://localhost:8080/"
        },
        "id": "LrNk08ahECPO",
        "outputId": "c3231559-1c6f-4fe4-c104-80d90f87b89c"
      },
      "source": [
        "# Question 01\n",
        "## Write a program in python to generate MD5 of string data\n",
        "\n",
        "# import the hashlib module\n",
        "import hashlib\n",
        "\n",
        "# initializing the string value\n",
        "text = \"Python and Network Security Bootcamp by ShapeAI\"\n",
        "\n",
        "# encoding the string using encode('utf-8') and then sending to md5()\n",
        "# encode('utf-8') : Converts the string into bytes to be acceptable by hash function.\n",
        "hash_object_md5 = hashlib.md5(text.encode('utf-8'))\n",
        "\n",
        "# printing the equivalent byte value\n",
        "# digest() : Returns the encoded data in byte format.\n",
        "print(\"\\nThe byte equivalent of md5 hash is : \", end =\"\")\n",
        "print(hash_object_md5.digest())\n",
        "\n",
        "# printing the equivalent hexadecimal value\n",
        "# hexdigest() : Returns the encoded data in hexadecimal format.\n",
        "print(\"\\nThe hexadecimal equivalent of md5 hash is : \", end =\"\")\n",
        "print(hash_object_md5.hexdigest())\n"
      ],
      "execution_count": 55,
      "outputs": [
        {
          "output_type": "stream",
          "text": [
            "\n",
            "The byte equivalent of md5 hash is : b'\\xe5\\xa9Q\\x8e\\xb8\\nc8\\xe5\\xc1\\x9cl\\xd6hV\\x9b'\n",
            "\n",
            "The hexadecimal equivalent of md5 hash is : e5a9518eb80a6338e5c19c6cd668569b\n"
          ],
          "name": "stdout"
        }
      ]
    },
    {
      "cell_type": "code",
      "metadata": {
        "colab": {
          "base_uri": "https://localhost:8080/"
        },
        "id": "droRQBwXJeae",
        "outputId": "a7c93778-844c-42f4-898e-bfc130ffcc5e"
      },
      "source": [
        "# Question 02\n",
        "## Write a program in python to generate hashes of string data using 3 algorithms from hashlib\n",
        "\n",
        "# get the list of all the algorithms available in the system, including those available through OpenSSl\n",
        "print(hashlib.algorithms_available)"
      ],
      "execution_count": 56,
      "outputs": [
        {
          "output_type": "stream",
          "text": [
            "{'sha224', 'shake_128', 'blake2s', 'sha3_512', 'sha3_384', 'sha1', 'sha384', 'blake2b', 'shake_256', 'sha3_224', 'sha512', 'sha3_256', 'md5', 'sha256'}\n"
          ],
          "name": "stdout"
        }
      ]
    },
    {
      "cell_type": "code",
      "metadata": {
        "colab": {
          "base_uri": "https://localhost:8080/"
        },
        "id": "jE4q9L7XK1gW",
        "outputId": "305a0e36-aef2-4c10-9785-ac8d9392776e"
      },
      "source": [
        "#  see the algorithms present in the hashlib module\n",
        "print(hashlib.algorithms_guaranteed)"
      ],
      "execution_count": 57,
      "outputs": [
        {
          "output_type": "stream",
          "text": [
            "{'sha224', 'shake_128', 'blake2s', 'sha3_512', 'sha3_384', 'sha1', 'sha384', 'blake2b', 'shake_256', 'sha3_224', 'sha512', 'sha3_256', 'md5', 'sha256'}\n"
          ],
          "name": "stdout"
        }
      ]
    },
    {
      "cell_type": "code",
      "metadata": {
        "colab": {
          "base_uri": "https://localhost:8080/"
        },
        "id": "gfrcWumwLKrU",
        "outputId": "ea0c8fc8-d898-4dc0-d03f-79e64d66026f"
      },
      "source": [
        "# initialize using sha224\n",
        "print('\\nExample for SHA224')\n",
        "\n",
        "# encoding the string using encode('utf-8') and then sending to sha224()\n",
        "hash_object_sha224 = hashlib.sha224(text.encode('utf-8'))\n",
        "\n",
        "# printing the equivalent byte value\n",
        "print(\"\\nThe byte equivalent of sha224 hash is : \", end =\"\")\n",
        "print(hash_object_sha224.digest())\n",
        "\n",
        "# printing the equivalent hexadecimal value\n",
        "print(\"\\nThe hexadecimal equivalent of sha224 hash is : \", end =\"\")\n",
        "print(hash_object_sha224.hexdigest())"
      ],
      "execution_count": 58,
      "outputs": [
        {
          "output_type": "stream",
          "text": [
            "\n",
            "Example for SHA224\n",
            "\n",
            "The byte equivalent of sha224 hash is : b'B\\xc6n\\xbdW\\xb8\\xc4\\xd0U(\\x02c\\xc3\\xbf\\xd3c\\xc0\\xbc\\xba\\xdb\\x98\\x87\\xaa\\xa3\\x9e\\xcb\\xe0\\x05'\n",
            "\n",
            "The hexadecimal equivalent of sha224 hash is : 42c66ebd57b8c4d055280263c3bfd363c0bcbadb9887aaa39ecbe005\n"
          ],
          "name": "stdout"
        }
      ]
    },
    {
      "cell_type": "code",
      "metadata": {
        "colab": {
          "base_uri": "https://localhost:8080/"
        },
        "id": "Gkslxj6XNN5G",
        "outputId": "4877e8f3-1592-447b-b8c4-8d6385357628"
      },
      "source": [
        "# initialize using sha256\n",
        "print('\\nExample for SHA256')\n",
        "\n",
        "# encoding the string using encode('utf-8') and then sending to sha256()\n",
        "hash_object_sha256 = hashlib.sha256(text.encode('utf-8'))\n",
        "\n",
        "# printing the equivalent byte value\n",
        "print(\"\\nThe byte equivalent of sha256 hash is : \", end =\"\")\n",
        "print(hash_object_sha256.digest())\n",
        "\n",
        "# printing the equivalent hexadecimal value\n",
        "print(\"\\nThe hexadecimal equivalent of sha256 hash is : \", end =\"\")\n",
        "print(hash_object_sha256.hexdigest())"
      ],
      "execution_count": 59,
      "outputs": [
        {
          "output_type": "stream",
          "text": [
            "\n",
            "Example for SHA256\n",
            "\n",
            "The byte equivalent of sha256 hash is : b'\\xb3,\\xc4\\xb8XxF\\x15~~f\\xa3\\x91\\xa9F\\x8egX\\xa4|\\xd8\\xaf\\xccL\\\\\\xb5hz\\xa5p\\xb5S'\n",
            "\n",
            "The hexadecimal equivalent of sha256 hash is : b32cc4b8587846157e7e66a391a9468e6758a47cd8afcc4c5cb5687aa570b553\n"
          ],
          "name": "stdout"
        }
      ]
    },
    {
      "cell_type": "code",
      "metadata": {
        "colab": {
          "base_uri": "https://localhost:8080/"
        },
        "id": "QG1B45PaNYHs",
        "outputId": "afd4e62a-735e-430a-f7ad-64857fe45955"
      },
      "source": [
        "# initialize using sha512\n",
        "print('\\nExample for SHA512')\n",
        "\n",
        "# encoding the string using encode('utf-8') and then sending to sha512()\n",
        "hash_object_sha512 = hashlib.sha512(text.encode('utf-8'))\n",
        "\n",
        "# printing the equivalent byte value\n",
        "print(\"\\nThe byte equivalent of sha512 hash is : \", end =\"\")\n",
        "print(hash_object_sha512.digest())\n",
        "\n",
        "# printing the equivalent hexadecimal value\n",
        "print(\"\\nThe hexadecimal equivalent of sha512 hash is : \", end =\"\")\n",
        "print(hash_object_sha512.hexdigest())"
      ],
      "execution_count": 60,
      "outputs": [
        {
          "output_type": "stream",
          "text": [
            "\n",
            "Example for SHA512\n",
            "\n",
            "The byte equivalent of sha512 hash is : b'\\xfe\\x9c\\x93\\x04\\x15;\\xd5\\xa7\\xd0\\xabLZ,[\\xb23\\x16\\x19q\\xe8\\x84\\x06\\x00\\xecF(n\\xed\\xeb\\xa0J_C?-\\x9b\\x16\\x80\\xb0\\xa7\\x07\\xba\\x89\\x9a\\xfc^IJ\\xf9r:8\\x1a?/\\x8a\\xfc\\xaa\\xd18\\x0c\\x98\\x98\\x00'\n",
            "\n",
            "The hexadecimal equivalent of sha512 hash is : fe9c9304153bd5a7d0ab4c5a2c5bb233161971e8840600ec46286eedeba04a5f433f2d9b1680b0a707ba899afc5e494af9723a381a3f2f8afcaad1380c989800\n"
          ],
          "name": "stdout"
        }
      ]
    },
    {
      "cell_type": "code",
      "metadata": {
        "colab": {
          "base_uri": "https://localhost:8080/"
        },
        "id": "Y5uwZWTsOU1t",
        "outputId": "370738f2-f58d-4f58-b746-79139b140b50"
      },
      "source": [
        "# Question 03\n",
        "## Add salting and iterations to your hashes\n",
        "\n",
        "# import os module\n",
        "import os\n",
        "\n",
        "# import binascii module\n",
        "import binascii\n",
        "\n",
        "# generating the salt\n",
        "salt = os.urandom(32)\n",
        "print(\"\\nGenerated Salt: \", salt)\n",
        "\n",
        "# salting and iterations with MD5 hash\n",
        "print('\\nExample for MD5 hash with salt and iterations')\n",
        "\n",
        "hashed_password_md5 = hashlib.pbkdf2_hmac('md5', text.encode('utf-8'), salt, 100)\n",
        "\n",
        "# printing the equivalent byte value\n",
        "print(\"\\nThe byte equivalent of md5 hash is : \", end =\"\")\n",
        "print(hashed_password_md5)\n",
        "\n",
        "# printing the equivalent hexadecimal value\n",
        "print(\"\\nThe hexadecimal equivalent of md5 hash is : \", end =\"\")\n",
        "print(binascii.hexlify(hashed_password_md5))"
      ],
      "execution_count": 61,
      "outputs": [
        {
          "output_type": "stream",
          "text": [
            "\n",
            "Generated Salt:  b'4\\xc0\\x18cx\\x84\\xb1\\x1a\\x9d\\xbe\\x0f}[xBz\\xbd,\\xfc\\x8e\\x96Q\\x19\\xcc\\xdb\\xb5\\xf3a\\xe4\\xd4G@'\n",
            "\n",
            "Example for MD5 hash with salt and iterations\n",
            "\n",
            "The byte equivalent of md5 hash is : b'H\\xaf\\xf9\\xaa\\xa1\\xd5\\x17=\\xcd\\x06\\xd1%\\xfdC\\x96\\x10'\n",
            "\n",
            "The hexadecimal equivalent of md5 hash is : b'48aff9aaa1d5173dcd06d125fd439610'\n"
          ],
          "name": "stdout"
        }
      ]
    },
    {
      "cell_type": "code",
      "metadata": {
        "colab": {
          "base_uri": "https://localhost:8080/"
        },
        "id": "1wzZ_blAn61f",
        "outputId": "69b888ee-093f-439c-b2f8-a3e19f894a12"
      },
      "source": [
        "# salting and iterations with SHA224 hash\n",
        "print('\\nExample for SHA224 hash with salt and iterations')\n",
        "\n",
        "hashed_password_sha224 = hashlib.pbkdf2_hmac('sha224', text.encode('utf-8'), salt, 10000)\n",
        "\n",
        "# printing the equivalent byte value\n",
        "print(\"\\nThe byte equivalent of sha224 hash is : \", end =\"\")\n",
        "print(hashed_password_sha224)\n",
        "\n",
        "# printing the equivalent hexadecimal value\n",
        "print(\"\\nThe hexadecimal equivalent of sha224 hash is : \", end =\"\")\n",
        "print(binascii.hexlify(hashed_password_sha224))"
      ],
      "execution_count": 62,
      "outputs": [
        {
          "output_type": "stream",
          "text": [
            "\n",
            "Example for SHA224 hash with salt and iterations\n",
            "\n",
            "The byte equivalent of sha224 hash is : b'J\\x9fXjF\\x11\\xdf\\xed\\x1c\\xf2<;\\x1b\\xfe\\xcc\\n\\xba\\x97\\x98\\xf8\\x8a+\\xc3\\xebW\\xf4\\x9aV'\n",
            "\n",
            "The hexadecimal equivalent of sha224 hash is : b'4a9f586a4611dfed1cf23c3b1bfecc0aba9798f88a2bc3eb57f49a56'\n"
          ],
          "name": "stdout"
        }
      ]
    },
    {
      "cell_type": "code",
      "metadata": {
        "colab": {
          "base_uri": "https://localhost:8080/"
        },
        "id": "7GXTPlfYoBbY",
        "outputId": "3f893572-55bf-408f-c53f-7e3ef2f803d4"
      },
      "source": [
        "# salting and iterations with SHA256 hash\n",
        "print('\\nExample for SHA256 hash with salt and iterations')\n",
        "\n",
        "hashed_password_sha256 = hashlib.pbkdf2_hmac('sha256', text.encode('utf-8'), salt, 100000)\n",
        "\n",
        "# printing the equivalent byte value\n",
        "print(\"\\nThe byte equivalent of sha256 hash is : \", end =\"\")\n",
        "print(hashed_password_sha256)\n",
        "\n",
        "# printing the equivalent hexadecimal value\n",
        "print(\"\\nThe hexadecimal equivalent of ssh256 hash is : \", end =\"\")\n",
        "print(binascii.hexlify(hashed_password_sha256))"
      ],
      "execution_count": 63,
      "outputs": [
        {
          "output_type": "stream",
          "text": [
            "\n",
            "Example for SHA256 hash with salt and iterations\n",
            "\n",
            "The byte equivalent of sha256 hash is : b'\\x82[\\xba=}\\xcf\\xab\\xa4\\xfe\\xdc\\xcb\\xad\\xc5\\xact\\xc6\\x80X\\xe5H\\x84>\\xed\\x9bh\\xe5\\xb2GF\\x06:7'\n",
            "\n",
            "The hexadecimal equivalent of ssh256 hash is : b'825bba3d7dcfaba4fedccbadc5ac74c68058e548843eed9b68e5b24746063a37'\n"
          ],
          "name": "stdout"
        }
      ]
    },
    {
      "cell_type": "code",
      "metadata": {
        "colab": {
          "base_uri": "https://localhost:8080/"
        },
        "id": "3jGLZuqdoGol",
        "outputId": "d5edb1dc-b7cc-4ff1-ce4d-6c2b506aa725"
      },
      "source": [
        "# salting and iterations with SHA512 hash\n",
        "print('\\nExample for SHA512 hash with salt and iterations')\n",
        "\n",
        "hashed_password_sha512 = hashlib.pbkdf2_hmac('sha512', text.encode('utf-8'), salt, 10000)\n",
        "\n",
        "# printing the equivalent byte value\n",
        "print(\"\\nThe byte equivalent of sha512 hash is : \", end =\"\")\n",
        "print(hashed_password_sha512)\n",
        "\n",
        "# printing the equivalent hexadecimal value\n",
        "print(\"\\nThe hexadecimal equivalent of sha512 hash is : \", end =\"\")\n",
        "print(binascii.hexlify(hashed_password_sha512))"
      ],
      "execution_count": 64,
      "outputs": [
        {
          "output_type": "stream",
          "text": [
            "\n",
            "Example for SHA512 hash with salt and iterations\n",
            "\n",
            "The byte equivalent of sha512 hash is : b'\\xa2\\xbe\\xf89\\x1d\\x85\\x89\\x07,d\\xa0bn\\x13\\x86?>\\xa1\\x8e\\x01\\xf3I1\\xea\\x8a\\x08\\xb9\\xed\\xae(\\xab/\\x0f\\\\f\\xc8\\xd36\\x8d4\\xe7UmM\\xdc\\x1d\\xf7\\xbc\\x07L5\\xf3\\x0eu\\xbd \\x9fU``\\xf8\\x19d\\xa9'\n",
            "\n",
            "The hexadecimal equivalent of sha512 hash is : b'a2bef8391d8589072c64a0626e13863f3ea18e01f34931ea8a08b9edae28ab2f0f5c66c8d3368d34e7556d4ddc1df7bc074c35f30e75bd209f556060f81964a9'\n"
          ],
          "name": "stdout"
        }
      ]
    }
  ]
}